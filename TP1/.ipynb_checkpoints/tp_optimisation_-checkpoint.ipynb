{
 "cells": [
  {
   "cell_type": "markdown",
   "metadata": {},
   "source": [
    "# 1.Database"
   ]
  },
  {
   "cell_type": "markdown",
   "metadata": {},
   "source": [
    "## 1.1"
   ]
  },
  {
   "cell_type": "code",
   "execution_count": 1,
   "metadata": {},
   "outputs": [
    {
     "name": "stdout",
     "output_type": "stream",
     "text": [
      "10304\n"
     ]
    }
   ],
   "source": [
    "pixel = 92*112\n",
    "print(pixel)"
   ]
  },
  {
   "cell_type": "markdown",
   "metadata": {},
   "source": [
    "There are 400 images in the database.\n",
    "There are 10304 pixels in each image."
   ]
  },
  {
   "cell_type": "markdown",
   "metadata": {},
   "source": [
    "# 2.Presentation of the model"
   ]
  },
  {
   "cell_type": "markdown",
   "metadata": {},
   "source": [
    "## 2.1\n",
    "\n"
   ]
  },
  {
   "cell_type": "markdown",
   "metadata": {},
   "source": [
    "# 3.Find W when H0 is fixed"
   ]
  },
  {
   "cell_type": "code",
   "execution_count": 2,
   "metadata": {},
   "outputs": [],
   "source": [
    "import numpy as np\n",
    "import matplotlib.pyplot as plt\n",
    "from scipy.sparse.linalg import  svds\n",
    "from numpy.linalg import norm\n",
    "from skimage import img_as_float\n",
    "import scipy.optimize\n",
    "import scipy.sparse"
   ]
  },
  {
   "cell_type": "markdown",
   "metadata": {},
   "source": [
    "## 3.1"
   ]
  },
  {
   "cell_type": "code",
   "execution_count": 76,
   "metadata": {},
   "outputs": [],
   "source": [
    "def build_matrix_from_faces(folder='/Users/apple/Downloads/att_faces', minidata=False):\n",
    "    # load images\n",
    "    # 400 images of size (112, 92)\n",
    "    M = []\n",
    "    if minidata is True:\n",
    "        nb_subjects = 1\n",
    "    else:\n",
    "        nb_subjects = 40\n",
    "    for subject in range(1, nb_subjects + 1\n",
    "                        ):\n",
    "        for image in range(1, 11):\n",
    "            face = plt.imread(folder + '/s' + str(subject)\n",
    "                              + '/' + str(image) + '.pgm')\n",
    "            M.append(face.ravel())\n",
    "\n",
    "    return np.array(M, dtype=float)\n",
    "\n",
    "def vectorize(W, H):\n",
    "    return np.concatenate((W.ravel(), H.ravel()))\n",
    "\n",
    "def unvectorize_M(W_H, M):\n",
    "    # number of elements in W_H is (n+p)*k where M is of size n x m\n",
    "    # W has the nk first elements\n",
    "    # H has the kp last elements\n",
    "    n, p = M.shape\n",
    "    k = W_H.shape[0] // (n + p)\n",
    "    W = W_H[:n * k].reshape((n, k))\n",
    "    H = W_H[n * k:].reshape((k, p))\n",
    "    return W, H"
   ]
  },
  {
   "cell_type": "code",
   "execution_count": 78,
   "metadata": {},
   "outputs": [
    {
     "data": {
      "image/png": "[encoded data removed]",
      "text/plain": [
       "<Figure size 432x288 with 1 Axes>"
      ]
     },
     "metadata": {
      "needs_background": "light"
     },
     "output_type": "display_data"
    }
   ],
   "source": [
    "# Small data to test the algorithm\n",
    "M = build_matrix_from_faces(folder='/Users/apple/Downloads/att_faces', minidata=True)\n",
    "def unvectorize(W_H): return unvectorize_M(W_H, M)\n",
    "k = 2\n",
    "# To see the first face:\n",
    "plt.imshow(M[0].reshape((112, 92)), cmap='gray'); plt.show()"
   ]
  },
  {
   "cell_type": "code",
   "execution_count": 186,
   "metadata": {},
   "outputs": [],
   "source": [
    "# Full data\n",
    "M = build_matrix_from_faces(folder='/Users/apple/Downloads/att_faces', minidata=False)\n",
    "def unvectorize(W_H): return unvectorize_M(W_H, M)\n",
    "k = 38\n",
    "n, p = M.shape\n",
    "W0, S, H0 = svds(M, k)\n",
    "W0 = np.maximum(0, W0 * np.sqrt(S))\n",
    "H0 = np.maximum(0,(H0.T * np.sqrt(S)).T)"
   ]
  },
  {
   "cell_type": "markdown",
   "metadata": {},
   "source": [
    "## 3.3"
   ]
  },
  {
   "cell_type": "code",
   "execution_count": 96,
   "metadata": {},
   "outputs": [],
   "source": [
    "def val_g(W):\n",
    "    return 1/(2*n*p)*norm(M-np.dot(W, H0))"
   ]
  },
  {
   "cell_type": "code",
   "execution_count": 90,
   "metadata": {},
   "outputs": [
    {
     "data": {
      "text/plain": [
       "0.010484301303465714"
      ]
     },
     "execution_count": 90,
     "metadata": {},
     "output_type": "execute_result"
    }
   ],
   "source": [
    "g(W0)"
   ]
  },
  {
   "cell_type": "code",
   "execution_count": 95,
   "metadata": {},
   "outputs": [],
   "source": [
    "def grad_g(W):\n",
    "    return -1/(n*p)*np.dot((M-np.dot(W, H0)), H0.T)"
   ]
  },
  {
   "cell_type": "code",
   "execution_count": 107,
   "metadata": {},
   "outputs": [
    {
     "data": {
      "text/plain": [
       "array([[0.01705873, 0.01917834, 0.02211141, ..., 0.02166756, 0.04197393,\n",
       "        0.28798797],\n",
       "       [0.0161062 , 0.01516826, 0.01265876, ..., 0.02688271, 0.05185988,\n",
       "        0.28017905],\n",
       "       [0.01887652, 0.02163875, 0.01847919, ..., 0.02238263, 0.06001241,\n",
       "        0.3052412 ],\n",
       "       ...,\n",
       "       [0.01013096, 0.00807574, 0.01031855, ..., 0.03722804, 0.00905606,\n",
       "        0.14061355],\n",
       "       [0.0125991 , 0.01546236, 0.01384656, ..., 0.03378073, 0.0224234 ,\n",
       "        0.20582078],\n",
       "       [0.01017919, 0.01018114, 0.01219879, ..., 0.04146428, 0.01724922,\n",
       "        0.18482904]])"
      ]
     },
     "execution_count": 107,
     "metadata": {},
     "output_type": "execute_result"
    }
   ],
   "source": [
    "grad_g(W0)"
   ]
  },
  {
   "cell_type": "code",
   "execution_count": 125,
   "metadata": {},
   "outputs": [
    {
     "data": {
      "text/plain": [
       "array([ 0.78865552,  0.76706246,  0.77953754,  0.79963477,  0.82499261,\n",
       "        0.8065999 ,  0.83534306,  0.81391451,  0.90048758,  0.81582625,\n",
       "        0.84504651,  0.85469865,  0.90081053,  0.91522351,  0.88563227,\n",
       "        0.88168496,  0.986906  ,  1.06946817,  1.05460909,  1.01330316,\n",
       "        1.07136499,  1.01457496,  1.02885637,  1.00510913,  1.04986658,\n",
       "        1.10557878,  1.18808404,  1.17288558,  1.16661727,  1.24771358,\n",
       "        1.33670309,  1.3227652 ,  1.526578  ,  2.19731331,  2.07163637,\n",
       "        1.50930561,  1.95497858, 13.5043369 ])"
      ]
     },
     "execution_count": 125,
     "metadata": {},
     "output_type": "execute_result"
    }
   ],
   "source": [
    "scipy.optimize.check_grad(val_g, grad_g, W0[1])"
   ]
  },
  {
   "cell_type": "markdown",
   "metadata": {},
   "source": [
    "## 3.4"
   ]
  },
  {
   "cell_type": "code",
   "execution_count": 114,
   "metadata": {},
   "outputs": [],
   "source": [
    "def l(x):\n",
    "    if(x<0): \n",
    "        return inf\n",
    "    else: \n",
    "        return 0    \n",
    "L0 = norm(np.dot(H0.T, H0))/(n*p)"
   ]
  },
  {
   "cell_type": "markdown",
   "metadata": {},
   "source": [
    "## 3.5"
   ]
  },
  {
   "cell_type": "code",
   "execution_count": 127,
   "metadata": {},
   "outputs": [],
   "source": [
    "def projected_gradient_method(val_g, grad_g, W0, gamma, N):\n",
    "    for i in range(N):\n",
    "        W0 = W0-gamma*grad_g(W0)\n",
    "        if (W0.any() < 0): W0 =  maximun(W0, 0)   \n",
    "    return val_g(W0)   "
   ]
  },
  {
   "cell_type": "markdown",
   "metadata": {},
   "source": [
    "## 3.6"
   ]
  },
  {
   "cell_type": "code",
   "execution_count": 128,
   "metadata": {},
   "outputs": [
    {
     "data": {
      "text/plain": [
       "0.00597862147095094"
      ]
     },
     "execution_count": 128,
     "metadata": {},
     "output_type": "execute_result"
    }
   ],
   "source": [
    "projected_gradient_method(val_g, grad_g, W0, 1/L0, 100)"
   ]
  },
  {
   "cell_type": "markdown",
   "metadata": {},
   "source": [
    "## 4.1"
   ]
  },
  {
   "cell_type": "code",
   "execution_count": 172,
   "metadata": {},
   "outputs": [],
   "source": [
    "W0, S, H0 = svds(M, k)\n",
    "W0 = np.maximum(0, W0 * np.sqrt(S))\n",
    "H0 = np.maximum(0,(H0.T * np.sqrt(S)).T)"
   ]
  },
  {
   "cell_type": "code",
   "execution_count": 174,
   "metadata": {},
   "outputs": [],
   "source": [
    "b = 100\n",
    "a = 0.3\n",
    "l = 0\n",
    "def taylor_based_line_search(val_g, grad_g, W0, b, a, l):\n",
    "    Wplus = W0 - b*(a**l)*grad_g(W0)\n",
    "    return val_g(W0) + np.prod(grad_g(W0) * (Wplus - W0)) + 1/(2*b*(a**l))*norm(W0 - Wplus)**2 - val_g(Wplus)\n",
    "while(taylor_based_line_search(val_g, grad_g, W0, b, a, l)<0):\n",
    "    l+=1\n",
    "    print(l)"
   ]
  },
  {
   "cell_type": "code",
   "execution_count": 183,
   "metadata": {
    "scrolled": true
   },
   "outputs": [
    {
     "data": {
      "text/plain": [
       "array([[0.01554778, 0.01700099, 0.01530693, ..., 0.0217514 , 0.0395688 ,\n",
       "        0.27241569],\n",
       "       [0.01626212, 0.0148489 , 0.01226928, ..., 0.02540304, 0.05817189,\n",
       "        0.31212277],\n",
       "       [0.0202386 , 0.02224873, 0.02168235, ..., 0.02749814, 0.06365407,\n",
       "        0.32628779],\n",
       "       ...,\n",
       "       [0.01391302, 0.01177924, 0.01064508, ..., 0.04411873, 0.01855258,\n",
       "        0.21417244],\n",
       "       [0.01531369, 0.01812014, 0.01477861, ..., 0.03893861, 0.02911009,\n",
       "        0.2520176 ],\n",
       "       [0.01360934, 0.01375869, 0.01344019, ..., 0.04870011, 0.02777922,\n",
       "        0.26513666]])"
      ]
     },
     "execution_count": 183,
     "metadata": {},
     "output_type": "execute_result"
    }
   ],
   "source": [
    "grad_g(W0)"
   ]
  },
  {
   "cell_type": "markdown",
   "metadata": {},
   "source": [
    "## 5.1"
   ]
  },
  {
   "cell_type": "code",
   "execution_count": 187,
   "metadata": {},
   "outputs": [
    {
     "data": {
      "text/plain": [
       "0.005610949732248652"
      ]
     },
     "execution_count": 187,
     "metadata": {},
     "output_type": "execute_result"
    }
   ],
   "source": [
    "W0, S, H0 = svds(M, k)\n",
    "W0 = np.maximum(0, W0 * np.sqrt(S))\n",
    "H0 = np.maximum(0,(H0.T * np.sqrt(S)).T)\n",
    "projected_gradient_method(val_g, grad_g, W0, 1/L0, 1000)"
   ]
  },
  {
   "cell_type": "markdown",
   "metadata": {},
   "source": [
    "## 5.2"
   ]
  },
  {
   "cell_type": "code",
   "execution_count": null,
   "metadata": {},
   "outputs": [],
   "source": []
  }
 ],
 "metadata": {
  "kernelspec": {
   "display_name": "Python 3",
   "language": "python",
   "name": "python3"
  },
  "language_info": {
   "codemirror_mode": {
    "name": "ipython",
    "version": 3
   },
   "file_extension": ".py",
   "mimetype": "text/x-python",
   "name": "python",
   "nbconvert_exporter": "python",
   "pygments_lexer": "ipython3",
   "version": "3.6.4"
  }
 },
 "nbformat": 4,
 "nbformat_minor": 2
}
