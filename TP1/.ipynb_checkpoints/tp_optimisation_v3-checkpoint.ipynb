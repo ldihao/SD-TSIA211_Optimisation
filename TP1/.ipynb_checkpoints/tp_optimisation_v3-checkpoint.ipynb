{
 "cells": [
  {
   "cell_type": "markdown",
   "metadata": {},
   "source": [
    "# 1.Database"
   ]
  },
  {
   "cell_type": "markdown",
   "metadata": {},
   "source": [
    "## 1.1"
   ]
  },
  {
   "cell_type": "code",
   "execution_count": 1,
   "metadata": {
    "scrolled": false
   },
   "outputs": [
    {
     "name": "stdout",
     "output_type": "stream",
     "text": [
      "10304\n"
     ]
    }
   ],
   "source": [
    "pixel = 92*112\n",
    "print(pixel)"
   ]
  },
  {
   "cell_type": "markdown",
   "metadata": {},
   "source": [
    "There are 400 images in the database.\n",
    "There are 10304 pixels in each image."
   ]
  },
  {
   "cell_type": "markdown",
   "metadata": {},
   "source": [
    "# 2.Presentation of the model"
   ]
  },
  {
   "cell_type": "markdown",
   "metadata": {},
   "source": [
    "## 2.1"
   ]
  },
  {
   "cell_type": "markdown",
   "metadata": {},
   "source": [
    "### 2.1.1 Show that the objective function is not convex\n",
    "\n",
    "To prove it's not convex, we have an example.\n",
    "\n",
    "We take $W1=[0]$, $W2=[1]$, $H1=[1]$, $H2=[0]$, $M=[0]$\n",
    "\n",
    "So we calculate: $$L(W1, H1) = 0, L(W2, H2) = 0, L(\\frac{W1+W2}{2}, \\frac{H1+H2}{2}) = \\frac{1}{32}$$\n",
    "\n",
    "Because: $$\\frac{1}{2} * (L(W1, H1) + L(W2, H2)) \\lt L(\\frac{W1+W2}{2}, \\frac{H1+H2}{2})$$\n",
    "\n",
    "So: it's not convex"
   ]
  },
  {
   "cell_type": "markdown",
   "metadata": {},
   "source": [
    "### 2.1.2 Calculate its gradient.\n",
    "\n",
    "We have: \n",
    "\n",
    "$L(W,H) = \\frac{1}{2np}*{||M-WH||}_{F}^{2}$\n",
    "\n",
    "$L(W+u,H+v) = L(W,H) + <\\nabla_W{L(W,H)},u> + <\\nabla_H{L(W,H)},v> + o(||(u,v)||)$\n",
    "\n",
    "And we calculate: \n",
    "\n",
    "$L(W+u,H+v) = \\frac{1}{2np} * <M-(W+u)(H+v), M-(W+u)(H+v)> $\n",
    "$    = \\frac{1}{2np}<M-WH-Wv-Hu, M-WH-Wv-Hu> + o(||(u,v)||)$\n",
    "$    = \\frac{1}{2np} <M-WH, M-WH> - \\frac{1}{np} <M-WH, Wv+Hu> + o(||(u,v)||)$\n",
    "$    = L(W,H) - \\frac{1}{np} <(M-WH)H^T,u> - \\frac{1}{np} <W^T(M-WH),v> + o(||(u,v)||)$\n",
    "    \n",
    "By comparing the equations above, we have: \n",
    "\n",
    "$$\\nabla_W{L(W,H)} = -\\frac{1}{np}(M-WH)H^T$$\n",
    "\n",
    "$$\\nabla_H{L(W,H)} = -\\frac{1}{np}W^T(M-WH)$$\n"
   ]
  },
  {
   "cell_type": "markdown",
   "metadata": {},
   "source": [
    "### 2.1.3 Is the gradient Lipschitz continuous?\n",
    "\n",
    "The gradient is not Lipschitz continuous because the degree of these fonctions is larger than 1. "
   ]
  },
  {
   "cell_type": "markdown",
   "metadata": {},
   "source": [
    "# 3.Find W when H0 is fixed"
   ]
  },
  {
   "cell_type": "code",
   "execution_count": 2,
   "metadata": {},
   "outputs": [],
   "source": [
    "import numpy as np\n",
    "import matplotlib.pyplot as plt\n",
    "from scipy.sparse.linalg import  svds\n",
    "from numpy.linalg import norm\n",
    "from skimage import img_as_float\n",
    "import scipy.optimize\n",
    "import scipy.sparse"
   ]
  },
  {
   "cell_type": "markdown",
   "metadata": {},
   "source": [
    "## 3.1"
   ]
  },
  {
   "cell_type": "markdown",
   "metadata": {},
   "source": [
    "First, we use **W0, S, H0 = scipy.sparse.linalg.svds(M, k)** to factorize the matrix M.\n",
    "\n",
    "In this choice, we use W0 = numpy.maximum(0, W0 * numpy.sqrt(S)) and H0 = numpy.maximum(0,(H0.T * numpy.sqrt(S)).T) to make sure the initial matrix W0 and H0 is positive, which is the goal of Nonnegative Matrix Factorization. \n",
    "\n",
    "With these, we can reduce the complexity of the calculation after and accelerate it.\n",
    "\n",
    "For other posibilities, we can use random positive matrix."
   ]
  },
  {
   "cell_type": "markdown",
   "metadata": {},
   "source": [
    "## 3.2"
   ]
  },
  {
   "cell_type": "markdown",
   "metadata": {},
   "source": [
    "Yes, the objective function g is convex.\n",
    "\n",
    "Because: g is a combination of quadratic function and linear function, while quadratic function and linear function are both convex\n",
    "\n",
    "So g is convex as well."
   ]
  },
  {
   "cell_type": "markdown",
   "metadata": {},
   "source": [
    "To calculate its gradient, by the question 2.1.2:\n",
    "\n",
    "$\\nabla{g(W)} = -\\frac{1}{np}(M-WH)H_0^T$"
   ]
  },
  {
   "cell_type": "markdown",
   "metadata": {},
   "source": [
    "## 3.3"
   ]
  },
  {
   "cell_type": "code",
   "execution_count": 3,
   "metadata": {},
   "outputs": [],
   "source": [
    "def build_matrix_from_faces(folder='att_faces', minidata=False):\n",
    "    # load images\n",
    "    # 400 images of size (112, 92)\n",
    "    M = []\n",
    "    if minidata is True:\n",
    "        nb_subjects = 1\n",
    "    else:\n",
    "        nb_subjects = 40\n",
    "    for subject in range(1, nb_subjects + 1\n",
    "                        ):\n",
    "        for image in range(1, 11):\n",
    "            face = plt.imread(folder + '/s' + str(subject)\n",
    "                              + '/' + str(image) + '.pgm')\n",
    "            M.append(face.ravel())\n",
    "\n",
    "    return np.array(M, dtype=float)\n",
    "\n",
    "def vectorize(W, H):\n",
    "    return np.concatenate((W.ravel(), H.ravel()))\n",
    "\n",
    "def unvectorize_M(W_H, M):\n",
    "    # number of elements in W_H is (n+p)*k where M is of size n x m\n",
    "    # W has the nk first elements\n",
    "    # H has the kp last elements\n",
    "    n, p = M.shape\n",
    "    k = W_H.shape[0] // (n + p)\n",
    "    W = W_H[:n * k].reshape((n, k))\n",
    "    H = W_H[n * k:].reshape((k, p))\n",
    "    return W, H"
   ]
  },
  {
   "cell_type": "code",
   "execution_count": 4,
   "metadata": {},
   "outputs": [
    {
     "data": {
      "image/png": "[encoded data removed]",
      "text/plain": [
       "<Figure size 432x288 with 1 Axes>"
      ]
     },
     "metadata": {
      "needs_background": "light"
     },
     "output_type": "display_data"
    }
   ],
   "source": [
    "# Small data to test the algorithm\n",
    "M = build_matrix_from_faces(folder='att_faces', minidata=True)\n",
    "def unvectorize(W_H): return unvectorize_M(W_H, M)\n",
    "k = 2\n",
    "# To see the first face:\n",
    "plt.imshow(M[0].reshape((112, 92)), cmap='gray'); plt.show()"
   ]
  },
  {
   "cell_type": "code",
   "execution_count": 5,
   "metadata": {
    "scrolled": true
   },
   "outputs": [],
   "source": [
    "# Full data\n",
    "M = build_matrix_from_faces(folder='att_faces', minidata=False)\n",
    "def unvectorize(W_H): return unvectorize_M(W_H, M)\n",
    "k = 38\n",
    "n, p = M.shape\n",
    "W, S, H = svds(M, k)\n",
    "W = np.maximum(0, W * np.sqrt(S))\n",
    "H = np.maximum(0,(H.T * np.sqrt(S)).T)"
   ]
  },
  {
   "cell_type": "code",
   "execution_count": 6,
   "metadata": {},
   "outputs": [],
   "source": [
    "def val_g(W):\n",
    "    return 1/(2*n*p)*(norm(M-np.dot(W, H0))**2)\n",
    "\n",
    "def grad_g(W):\n",
    "    return -1/(n*p)*np.dot((M-np.dot(W, H0)), H0.T)"
   ]
  },
  {
   "cell_type": "code",
   "execution_count": 7,
   "metadata": {},
   "outputs": [],
   "source": [
    "## initilisation\n",
    "\n",
    "W0 = W\n",
    "H0 = H"
   ]
  },
  {
   "cell_type": "code",
   "execution_count": 8,
   "metadata": {},
   "outputs": [
    {
     "data": {
      "text/plain": [
       "867.6350229602598"
      ]
     },
     "execution_count": 8,
     "metadata": {},
     "output_type": "execute_result"
    }
   ],
   "source": [
    "val_g(W0)"
   ]
  },
  {
   "cell_type": "code",
   "execution_count": 9,
   "metadata": {
    "scrolled": true
   },
   "outputs": [
    {
     "data": {
      "text/plain": [
       "array([[0.0172934 , 0.01731904, 0.01540402, ..., 0.07276419, 0.03879833,\n",
       "        0.25333461],\n",
       "       [0.01554563, 0.02056321, 0.01834088, ..., 0.04449452, 0.05265991,\n",
       "        0.41571801],\n",
       "       [0.02560152, 0.02760649, 0.02700951, ..., 0.07270818, 0.0546179 ,\n",
       "        0.41152049],\n",
       "       ...,\n",
       "       [0.0171698 , 0.01912146, 0.01781624, ..., 0.03338525, 0.04315752,\n",
       "        0.32001701],\n",
       "       [0.01758595, 0.0235722 , 0.020001  , ..., 0.03991636, 0.05232479,\n",
       "        0.33582498],\n",
       "       [0.01795233, 0.01865527, 0.01813591, ..., 0.03375649, 0.04871939,\n",
       "        0.33763142]])"
      ]
     },
     "execution_count": 9,
     "metadata": {},
     "output_type": "execute_result"
    }
   ],
   "source": [
    "grad_g(W0)"
   ]
  },
  {
   "cell_type": "code",
   "execution_count": 10,
   "metadata": {
    "scrolled": true
   },
   "outputs": [
    {
     "data": {
      "text/plain": [
       "0.001742833843045114"
      ]
     },
     "execution_count": 10,
     "metadata": {},
     "output_type": "execute_result"
    }
   ],
   "source": [
    "## check computations with **scipy.optimize.check grad**\n",
    "def g_t(W):\n",
    "    W = np.reshape(W, (-1, k))\n",
    "    return 1/(2*n*p)*(norm(M-np.dot(W, H0))**2)\n",
    "def grad_g_t(W):\n",
    "    W = np.reshape(W, (-1, k))\n",
    "    return -1/(n*p)*np.dot((M-np.dot(W, H0)), H0.T).reshape(-1)\n",
    "\n",
    "scipy.optimize.check_grad(g_t, grad_g_t, np.reshape(W0, -1))"
   ]
  },
  {
   "cell_type": "markdown",
   "metadata": {},
   "source": [
    "## 3.4"
   ]
  },
  {
   "cell_type": "markdown",
   "metadata": {},
   "source": [
    "We have :\n",
    "\n",
    "$${\\operatorname{prox}}_{\\gamma_{\\iota_{\\mathbb{R}_+}}} (x_k) = \\underset{y \\in \\mathbb{R}^n}{\\operatorname{argmin}} \\iota_{\\mathbb{R}_+}(y) + \\frac{1}{2\\gamma} {||y-x_k||}^2) $$\n",
    "\n",
    "We know that for y negative, $\\iota_{\\mathbb{R}_+}(y)$ is always inifinie. So minimize\n",
    "$\\iota_{\\mathbb{R}_+}(y) + \\frac{1}{2\\gamma} {||y-x_k||}^2 $ , we want y positive to let $\\iota_{\\mathbb{R}_+}(y) = 0$\n",
    "\n",
    "\n",
    "For $x_k$ negative, to minimize the objective function, $y = 0$\n",
    "\n",
    "For $x_k$ positive, to minimize the objective function, $y = x_k$\n",
    "\n",
    "so it's the projection onto $\\mathbb{R}_+$."
   ]
  },
  {
   "cell_type": "code",
   "execution_count": 11,
   "metadata": {},
   "outputs": [],
   "source": [
    "def l(x):\n",
    "    if(x<0): \n",
    "        return inf\n",
    "    else: \n",
    "        return 0    \n",
    "L0 = norm(np.dot(H0.T, H0))/(n*p)"
   ]
  },
  {
   "cell_type": "markdown",
   "metadata": {},
   "source": [
    "## 3.5"
   ]
  },
  {
   "cell_type": "code",
   "execution_count": 12,
   "metadata": {},
   "outputs": [],
   "source": [
    "def projected_gradient_method(val_g, grad_g, W0, gamma, N):\n",
    "    for i in range(N):\n",
    "        W0 = W0-gamma*grad_g(W0)\n",
    "        W0 =  np.maximum(W0, 0) \n",
    "#         print(val_g(W0))\n",
    "    return val_g(W0)   "
   ]
  },
  {
   "cell_type": "markdown",
   "metadata": {},
   "source": [
    "## 3.6"
   ]
  },
  {
   "cell_type": "code",
   "execution_count": 13,
   "metadata": {
    "scrolled": true
   },
   "outputs": [
    {
     "data": {
      "text/plain": [
       "491.00633149927086"
      ]
     },
     "execution_count": 13,
     "metadata": {},
     "output_type": "execute_result"
    }
   ],
   "source": [
    "W0 = W\n",
    "H0 = H\n",
    "projected_gradient_method(val_g, grad_g, W0, 1/L0, 100)"
   ]
  },
  {
   "cell_type": "code",
   "execution_count": 14,
   "metadata": {},
   "outputs": [
    {
     "data": {
      "text/plain": [
       "14.242365918229154"
      ]
     },
     "execution_count": 14,
     "metadata": {},
     "output_type": "execute_result"
    }
   ],
   "source": [
    "1/L0"
   ]
  },
  {
   "cell_type": "markdown",
   "metadata": {},
   "source": [
    "## 4.1"
   ]
  },
  {
   "cell_type": "code",
   "execution_count": 15,
   "metadata": {},
   "outputs": [],
   "source": [
    "## we implement Armijo's line search\n",
    "\n",
    "def find_l(val_g, grad_g, x0, beta, a, b):\n",
    "    l = 0;\n",
    "    x_k = x0;\n",
    "    x_plus = x_k - grad_g(x_k)*b*a**l;\n",
    "    while (val_g(x_plus) > val_g(x_k)+beta*np.vdot(grad_g(x_k), x_plus-x_k)):\n",
    "        l += 1;\n",
    "        x_plus = x_k - grad_g(x_k)*b*a**l\n",
    "#         print(l);\n",
    "    return l;\n",
    "\n",
    "def line_search(val_g, grad_g, x0, a, b, beta, N):\n",
    "    x_k = x0;\n",
    "    for i in range(N):\n",
    "        l = find_l(val_g, grad_g, x_k, beta, a, b);\n",
    "        x_k = x_k - b*a**l*grad_g(x_k);\n",
    "        x_k = np.maximum(x_k, 0)\n",
    "#         print(l);\n",
    "#         print(str(i) + \" :\", val_g(x_k))\n",
    "    return val_g(x_k)\n"
   ]
  },
  {
   "cell_type": "code",
   "execution_count": 16,
   "metadata": {
    "scrolled": true
   },
   "outputs": [
    {
     "data": {
      "text/plain": [
       "487.749856944986"
      ]
     },
     "execution_count": 16,
     "metadata": {},
     "output_type": "execute_result"
    }
   ],
   "source": [
    "line_search(val_g, grad_g, W0, 0.5, 20, 0.5, 100)"
   ]
  },
  {
   "cell_type": "markdown",
   "metadata": {},
   "source": [
    "## 4.2"
   ]
  },
  {
   "cell_type": "code",
   "execution_count": 17,
   "metadata": {},
   "outputs": [
    {
     "name": "stdout",
     "output_type": "stream",
     "text": [
      "projected gradient method:\n",
      "time cost: 3.2217111587524414\n",
      "result: 491.00633149927086\n",
      "\n",
      "line search method:\n",
      "time cost: 14.84333610534668\n",
      "result: 487.749856944986\n"
     ]
    }
   ],
   "source": [
    "import time\n",
    "print('projected gradient method:')\n",
    "start = time.time()\n",
    "res = projected_gradient_method(val_g, grad_g, W0, 1/L0, 100)\n",
    "print('time cost:', time.time()-start)\n",
    "print('result:', res)\n",
    "print('\\nline search method:')\n",
    "start = time.time()\n",
    "res = line_search(val_g, grad_g, W0, 0.5, 20, 0.5, 100)\n",
    "print('time cost:', time.time()-start)\n",
    "print('result:', res)"
   ]
  },
  {
   "cell_type": "markdown",
   "metadata": {},
   "source": [
    "We can see that the results of two algorithms are nearly the same while the time of the projected gradient method is less than that of line search method. "
   ]
  },
  {
   "cell_type": "markdown",
   "metadata": {},
   "source": [
    "## 5.1"
   ]
  },
  {
   "cell_type": "code",
   "execution_count": 18,
   "metadata": {},
   "outputs": [
    {
     "data": {
      "text/plain": [
       "483.0540348132402"
      ]
     },
     "execution_count": 18,
     "metadata": {},
     "output_type": "execute_result"
    }
   ],
   "source": [
    "line_search(val_g, grad_g, W0, 0.5, 20, 0.5, 1000)"
   ]
  },
  {
   "cell_type": "markdown",
   "metadata": {},
   "source": [
    "## 5.2"
   ]
  },
  {
   "cell_type": "markdown",
   "metadata": {},
   "source": [
    "The objective function is:\n",
    "$$f(W, H)= \\frac{1}{2np}\\lVert M-WH \\rVert^2_F$$\n",
    "From the question 3.1, we know that\n",
    "$$g(W0)= \\frac{1}{2np}\\lVert M-W0H0 \\rVert^2_F \\geq \\frac{1}{2np}\\lVert M-W1H0 \\rVert^2_F = g(W1)$$\n",
    "So in this method, in each iteration, we have:\n",
    "$$f(W_t, H_{t-1}) \\leq f(W_{t-1}, H_{t-1})$$\n",
    "For the same reason, in each iteration, we have:\n",
    "$$f(W_t, H_t) \\leq f(W_t, H_{t-1})$$\n",
    "Consequently:\n",
    "$$f(W_t, H_t) \\leq f(W_t, H_{t-1}) \\leq f(W_{t-1}, H_{t-1})$$\n",
    "\n",
    "Therefore, the value of the objective in decreasing at each iteration.\n",
    "\n",
    "In addition, the objective function with a normalization Frobenuis is always positive, so the objective function is not going to decrease infinitely, and the value converges."
   ]
  },
  {
   "cell_type": "markdown",
   "metadata": {},
   "source": [
    "## 5.3"
   ]
  },
  {
   "cell_type": "code",
   "execution_count": 19,
   "metadata": {},
   "outputs": [],
   "source": [
    "def val_g(W, H, isWFirst = True):\n",
    "    if isWFirst: return 1/(2*n*p)*(norm(M-np.dot(W, H))**2)\n",
    "    else: return 1/(2*n*p)*(norm(M-np.dot(H, W))**2)\n",
    "\n",
    "def grad_g_H(H, W):\n",
    "    return -1/(n*p)*np.dot(W.T, (M-np.dot(W, H)))\n",
    "\n",
    "def grad_g_W(W, H):\n",
    "    return -1/(n*p)*np.dot((M-np.dot(W, H)), H.T)\n",
    "\n",
    "def find_l(val_g, grad_g, x0, y0, beta, a, b, isWFirst = True):\n",
    "    l = 0;\n",
    "    x_k = x0;\n",
    "    x_plus = x_k - grad_g(x_k, y0)*b*a**l;\n",
    "    while (val_g(x_plus, y0, isWFirst) > val_g(x_k, y0, isWFirst)+beta*np.vdot(grad_g(x_k, y0), x_plus-x_k)):\n",
    "        l += 1;\n",
    "        x_plus = x_k - grad_g(x_k, y0)*b*a**l\n",
    "#         print(l);\n",
    "    return l;\n",
    "\n",
    "def line_search_full(val_g, grad_g_H, grad_g_W, H0, W0, a, b, beta, N):\n",
    "    H_k = H0;\n",
    "    W_k = W0;\n",
    "    ls = [];\n",
    "    ls.append(val_g(W_k, H_k));\n",
    "    for i in range(N):\n",
    "        l = find_l(val_g, grad_g_W, W_k, H_k, beta, a, b);\n",
    "        W_k = W_k - b*a**l*grad_g_W(W_k, H_k);\n",
    "        W_k = np.maximum(W_k, 0)\n",
    "        l = find_l(val_g, grad_g_H, H_k, W_k, beta, a, b, False);\n",
    "        H_k = H_k - b*a**l*grad_g_H(H_k, W_k);\n",
    "        H_k = np.maximum(H_k, 0)\n",
    "        ls.append(val_g(W_k, H_k));\n",
    "#         print(l);\n",
    "#         print(str(i) + \" :\", val_g(W_k, H_k))\n",
    "    return (W_k, H_k, ls)\n"
   ]
  },
  {
   "cell_type": "code",
   "execution_count": 20,
   "metadata": {},
   "outputs": [
    {
     "name": "stdout",
     "output_type": "stream",
     "text": [
      "projected gradient method:\n",
      "time cost: 378.5557701587677\n",
      "result: 200.0859895644826\n"
     ]
    }
   ],
   "source": [
    "print('projected gradient method:')\n",
    "start = time.time()\n",
    "(W_k, H_k, l) = line_search_full(val_g, grad_g_H, grad_g_W, H0, W0, a=0.5, b=10, beta=0.5, N=1000)\n",
    "print('time cost:', time.time()-start)\n",
    "print('result:', val_g(W_k, H_k))"
   ]
  },
  {
   "cell_type": "code",
   "execution_count": 21,
   "metadata": {},
   "outputs": [
    {
     "data": {
      "text/plain": [
       "[<matplotlib.lines.Line2D at 0x1213ff8a20>]"
      ]
     },
     "execution_count": 21,
     "metadata": {},
     "output_type": "execute_result"
    },
    {
     "data": {
      "image/png": "[encoded data removed]",
      "text/plain": [
       "<Figure size 432x288 with 1 Axes>"
      ]
     },
     "metadata": {
      "needs_background": "light"
     },
     "output_type": "display_data"
    }
   ],
   "source": [
    "plt.plot(l)"
   ]
  },
  {
   "cell_type": "code",
   "execution_count": 22,
   "metadata": {
    "scrolled": true
   },
   "outputs": [
    {
     "name": "stdout",
     "output_type": "stream",
     "text": [
      "projected gradient method:\n",
      "time cost: 35.089239835739136\n",
      "result: 273.76855860773384\n"
     ]
    },
    {
     "data": {
      "text/plain": [
       "[<matplotlib.lines.Line2D at 0x121402edd8>]"
      ]
     },
     "execution_count": 22,
     "metadata": {},
     "output_type": "execute_result"
    },
    {
     "data": {
      "image/png": "[encoded data removed]",
      "text/plain": [
       "<Figure size 432x288 with 1 Axes>"
      ]
     },
     "metadata": {
      "needs_background": "light"
     },
     "output_type": "display_data"
    }
   ],
   "source": [
    "print('projected gradient method:')\n",
    "start = time.time()\n",
    "(W_k, H_k, l) = line_search_full(val_g, grad_g_H, grad_g_W, H0, W0, a=0.5, b=10, beta=0.5, N=100)\n",
    "print('time cost:', time.time()-start)\n",
    "print('result:', val_g(W_k, H_k))\n",
    "plt.plot(l)"
   ]
  },
  {
   "cell_type": "markdown",
   "metadata": {},
   "source": [
    "## 5.4"
   ]
  },
  {
   "cell_type": "markdown",
   "metadata": {},
   "source": [
    "Comparing projected gradient (PG) and alternate minimizations (AM) methods:\n",
    "\n",
    "- Solution is not the same: AM is better than PG\n",
    "- Objective value is not the same: AM (273.76) is better than PG (491.00)\n",
    "- Time: PG (5.07) is shorter than AM (39.68)\n",
    "\n",
    "Conclusion: the converge speed of AM is much faster than PG while it takes less time to computer the same number of iteration by PG than by AM. "
   ]
  },
  {
   "cell_type": "markdown",
   "metadata": {},
   "source": [
    "## 5.5"
   ]
  },
  {
   "cell_type": "markdown",
   "metadata": {},
   "source": [
    "Instead of just using the number of iterations, maybe we can caluculate the decrease of objective values between each iteration. \n",
    "\n",
    "We can set a very small value epsilon and stop the algorithm when $$||f(W_{t}, H_{t})  - f(W_{t-1}, H_{t-1})||  \\lt epsilon$$"
   ]
  },
  {
   "cell_type": "code",
   "execution_count": null,
   "metadata": {},
   "outputs": [],
   "source": []
  }
 ],
 "metadata": {
  "kernelspec": {
   "display_name": "Python 3",
   "language": "python",
   "name": "python3"
  },
  "language_info": {
   "codemirror_mode": {
    "name": "ipython",
    "version": 3
   },
   "file_extension": ".py",
   "mimetype": "text/x-python",
   "name": "python",
   "nbconvert_exporter": "python",
   "pygments_lexer": "ipython3",
   "version": "3.6.4"
  }
 },
 "nbformat": 4,
 "nbformat_minor": 2
}
