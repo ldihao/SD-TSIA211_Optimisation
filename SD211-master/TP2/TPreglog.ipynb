{
 "cells": [
  {
   "cell_type": "markdown",
   "metadata": {},
   "source": [
    "# TP 2 : Régression logistique\n",
    "\n",
    "## 1 Régularisation de Tikhonov\n",
    "\n",
    "### 1.1 : Étude de la fonction objectif :\n",
    "\n",
    "**Calcul du gradient :**\n",
    "\n",
    "$\\frac{df_1}{dw_0} (w_0, w)= \\frac 1 n \\sum_{i=1}^n{\\frac{-y_i}{1+exp(y_i(x_i^T*w + w_0))}}$\n",
    "\n",
    "\n",
    "$\\frac{df_1}{dw} (w_0, w)= \\frac 1 n \\sum_{i=1}^n{\\frac{-y_i*x_i}{1+exp(y_i(x_i^T*w + w_0))}} + \\rho * w$\n",
    "\n",
    "**Calcul de la hessienne :**\n",
    "\n",
    "$H = \\frac 1 n * \\sum_i{\\frac{y_i^2}{(2cosh(y_i/2(x_i^T*w + w_0))^2}} * \\begin{bmatrix}1 \\\\ x_i \\end{bmatrix} \\begin{bmatrix}1 \\\\ x_i \\end{bmatrix}^T + \\begin{vmatrix} 0 & 0 \\\\ 0 & {\\rho * I_p} \\end{vmatrix}  $\n",
    "\n",
    "Montrons que $H$ est définie positive. Posons $a_i = \\frac{y_i}{\\sqrt n (2cosh(y_i/2(x_i^T*w + w_0))}$ et $v_i = \\begin{bmatrix}1 \\\\ x_i \\end{bmatrix}$, on a :\n",
    "\n",
    "$\\forall u \\in \\mathbb R^{p+1}, u^T H u = u^T \\begin{vmatrix} 0 & 0 \\\\ 0 & {\\rho * I_p} \\end{vmatrix} u + \\sum_i{(u^T a_i v_i) (v_i^T a_i u) }$\n",
    "\n",
    "* $u^T \\begin{vmatrix} 0 & 0 \\\\ 0 & {\\rho * I_p} \\end{vmatrix} u = \\begin{bmatrix} 0 & {\\rho \\sum_{i=2}^{p+1}{u_i}} & {...} & {\\rho \\sum_{i=2}^{p+1}{u_i}} \\end{bmatrix} \\begin{bmatrix} u_1 \\\\ ... \\\\ u_ {p+1} \\end{bmatrix} = \\rho (\\sum_{i=2}^{p+1}{u_i})^2 > 0$\n",
    "* $\\sum_i{(u^T a_i v_i) (v_i^T a_i u) } = \\sum_i{(u^T a_i v_i)^2 } > 0$\n",
    "\n",
    "Ainsi $ u^T H u > 0$. \n",
    "\n",
    "Et donc $f_1$ est convexe\n",
    "\n",
    "### 1.2 : Programmation :"
   ]
  },
  {
   "cell_type": "code",
   "execution_count": 1,
   "metadata": {},
   "outputs": [],
   "source": [
    "import numpy as np\n",
    "from scipy.optimize import check_grad\n",
    "\n",
    "def objective(w, X, Y, rho, verbose=False):\n",
    "    \"\"\" Renvoie les données numériques du problème\n",
    "    :param w: Le vecteur [w0 w] de l'énoncé. On attend une liste de longueur p+1.\n",
    "    :param X: La matrice des vecteurs lignes xi. On attend une matrice de dimension n lignes * p+1 colonnes.\n",
    "        La 1ère colonne est composée uniquement de 1.\n",
    "    :param Y: Le vecteur des yi. Liste de longueur n.\n",
    "    :param rho: Le paramètre de régularisation.\n",
    "    \n",
    "    :return: La valeur de la fonction, son gradient et sa hessienne.\"\"\"\n",
    "    assert (len(Y), len(w)) == X.shape, \"Erreur de dimensions\"\n",
    "    n = len(Y)\n",
    "    p = len(w) - 1\n",
    "    # Valeur de la fonction au point w :\n",
    "    val = rho/2 * np.linalg.norm(w, 2)**2\n",
    "    for i in range(n):\n",
    "        s = np.exp(-Y[i]*np.dot(X[i,:], w))\n",
    "#         if verbose:\n",
    "#             print(\"Étape %d, Val = %f\" % (i, val))\n",
    "#             print(\"s:\", s)\n",
    "        val += 1/n*np.log(1 + s)\n",
    "    \n",
    "    # Gradient de la fonction au point w \n",
    "    grad = np.zeros(p+1)\n",
    "    grad[1:] = rho * w[1:]\n",
    "    for i in range(n):\n",
    "        grad += 1/n * (Y[i]*X[i])/(1 + np.exp(Y[i] * np.dot(X[i,:], w)))\n",
    "        \n",
    "    # Matrice hessienne :\n",
    "    hess = np.identity(p+1)*rho\n",
    "    hess[0,0] = 0\n",
    "    for i in range(n):\n",
    "        v = X[i,:][np.newaxis]\n",
    "        hess += 1/n * (Y[i] / (2*np.cosh(Y[i]/(2*np.dot(X[i,:], w)))))**2 * v.T.dot(v)\n",
    "#         if verbose:\n",
    "#             print(\"v.T.dot(v):\")\n",
    "#             print(v.T.dot(v)[:10,:10])\n",
    "#             print(\"hess[0,0] = %f\" % hess[0,0])\n",
    "#             print(\"np.dot(X[i,:], w) = %f\" % np.dot(X[i,:], w))\n",
    "#             print(\"(Y[i] / (2*np.cosh(Y[i]/(2*np.dot(X[i,:], w)))))**2 = %f\"% \n",
    "#                   (Y[i] / (2*np.cosh(Y[i]/(2*np.dot(X[i,:], w)))))**2)\n",
    "#             print(\"hess:\")\n",
    "#             print(hess)\n",
    "    return val, grad, hess\n"
   ]
  },
  {
   "cell_type": "code",
   "execution_count": 2,
   "metadata": {},
   "outputs": [
    {
     "name": "stdout",
     "output_type": "stream",
     "text": [
      "Test unitaire :\n",
      "f(w) = 5.533369, attendu : 5.283369\n",
      "Écart entre la hessienne et la valeur attendue :\n",
      "[[ 0.  0.  0.]\n",
      " [ 0.  0.  0.]\n",
      " [ 0.  0.  0.]]\n",
      "Pour le gradient, avec les données 'cervical_cancer' :\n",
      "Écart absolu | Écart relatif\n",
      "----------------------------\n",
      "     0.875   |   2.0%\n",
      "     0.862   |   0.9%\n",
      "     0.849   |   2.9%\n",
      "     0.903   |   1.5%\n",
      "     0.899   |   0.4%\n",
      "     0.897   |   1.4%\n",
      "     0.797   |   2.8%\n",
      "     0.896   |   0.8%\n",
      "     0.886   |   0.5%\n",
      "     1.157   |   0.5%\n"
     ]
    }
   ],
   "source": [
    "from cervicalcancerutils import load_cervical_cancer\n",
    "\n",
    "\n",
    "# Test unitaire :\n",
    "y_test = np.array([-1, 1])\n",
    "X_test = np.array([[1,0,1],[1,1,0]])\n",
    "w_test = np.array([1,2,3])\n",
    "rho_test = 1/2\n",
    "\n",
    "print(\"Test unitaire :\")\n",
    "# f(w) :\n",
    "val_expected = 1/2*(np.log(1+np.exp(4)) + np.log(1+np.exp(-3))) + rho_test/2 * 13\n",
    "# hessienne :\n",
    "a1 = 1/2 * (1/(2*np.cosh(-1/8)))**2\n",
    "a2 = 1/2 * (1/(2*np.cosh(1/6)))**2\n",
    "m1 = np.array([[1,0,1], [0,0,0], [1,0,1]])\n",
    "m2 = np.array([[1,1,0], [1,1,0], [0,0,0]])\n",
    "m3 = np.array([[0,0,0], [0,1,0], [0,0,1]])\n",
    "hess_expected = a1*m1 + a2*m2 + rho_test * m3\n",
    "\n",
    "\n",
    "val, grad, hess = objective(w_test, X_test, y_test, rho_test, verbose=False)\n",
    "print(\"f(w) = %f, attendu : %f\" % (val, val_expected))\n",
    "print(\"Écart entre la hessienne et la valeur attendue :\")\n",
    "print(hess - hess_expected)\n",
    "\n",
    "X,y = load_cervical_cancer(\"riskfactorscervicalcancer.csv\")\n",
    "(n, p) = X.shape\n",
    "\n",
    "# On rajoute une colonne de 1 à X :\n",
    "X = np.hstack((np.ones((X.shape[0], 1)), X))\n",
    "\n",
    "# Affichage des erreurs sur le gradient :\n",
    "n_verif = 10 # Nombre de vérification à effectuer\n",
    "print(\"Pour le gradient, avec les données 'cervical_cancer' :\")\n",
    "print(\"Écart absolu | Écart relatif\")\n",
    "print(\"----------------------------\")\n",
    "for i in range(n_verif):\n",
    "    rho = np.random.random()\n",
    "    w = np.random.random(p+1)\n",
    "    f = lambda w:objective(w, X, y, rho)[0]\n",
    "    grad_f = lambda w:objective(w, X, y, rho)[1]\n",
    "    err = check_grad(f, grad_f, w)\n",
    "    err_rel = err/np.linalg.norm(grad_f(w))\n",
    "    print(\"%10.3f   | %5.1f%%\" % (err, err_rel))"
   ]
  },
  {
   "cell_type": "code",
   "execution_count": 3,
   "metadata": {},
   "outputs": [
    {
     "name": "stdout",
     "output_type": "stream",
     "text": [
      "[[ 5.08736545 -0.99515305 -1.00484695]\n",
      " [-0.99515305  1.80343922  0.19656078]\n",
      " [-1.00484695  0.19656078  1.80343922]]\n",
      "[[ 5.08736545 -0.99515305 -1.00484695]\n",
      " [-0.99515305  1.80343922  0.19656078]\n",
      " [-1.00484695  0.19656078  1.80343922]]\n"
     ]
    }
   ],
   "source": [
    "print(np.linalg.inv(hess_expected))\n",
    "print(np.linalg.inv(hess))"
   ]
  },
  {
   "cell_type": "markdown",
   "metadata": {
    "collapsed": true
   },
   "source": [
    "### 1.3 : Méthode de Newton :"
   ]
  },
  {
   "cell_type": "code",
   "execution_count": 15,
   "metadata": {},
   "outputs": [
    {
     "name": "stdout",
     "output_type": "stream",
     "text": [
      "Itération 10, val = 48.913834, ||grad|| = 0.542994\n",
      "Itération 20, val = 378.533424, ||grad|| = 0.485724\n",
      "Itération 30, val = 1017.933464, ||grad|| = 0.485714\n",
      "Itération 40, val = 1967.216248, ||grad|| = 0.485714\n",
      "Itération 50, val = 3226.385079, ||grad|| = 0.485714\n",
      "Itération 60, val = 4795.440452, ||grad|| = 0.485714\n",
      "Itération 70, val = 6674.382548, ||grad|| = 0.485714\n",
      "Itération 80, val = 8863.211450, ||grad|| = 0.485714\n",
      "Itération 90, val = 11361.927204, ||grad|| = 0.485714\n",
      "Itération 100, val = 14170.529834, ||grad|| = 0.485714\n",
      "Itération 110, val = 17289.019357, ||grad|| = 0.485714\n",
      "Itération 120, val = 20717.395782, ||grad|| = 0.485714\n",
      "Itération 130, val = 24455.659117, ||grad|| = 0.485714\n",
      "Itération 140, val = 28503.809367, ||grad|| = 0.485714\n",
      "Itération 150, val = 32861.846535, ||grad|| = 0.485714\n",
      "Itération 160, val = 37529.770624, ||grad|| = 0.485714\n",
      "Itération 170, val = 42507.581636, ||grad|| = 0.485714\n",
      "Itération 180, val = 47795.279573, ||grad|| = 0.485714\n",
      "Itération 190, val = 53392.864434, ||grad|| = 0.485714\n",
      "Itération 200, val = 59300.336223, ||grad|| = 0.485714\n",
      "Itération 210, val = 65517.694939, ||grad|| = 0.485714\n",
      "Itération 220, val = 72044.940582, ||grad|| = 0.485714\n",
      "Itération 230, val = 78882.073154, ||grad|| = 0.485714\n",
      "Itération 240, val = 86029.092656, ||grad|| = 0.485714\n",
      "Itération 250, val = 93485.999086, ||grad|| = 0.485714\n",
      "Itération 260, val = 101252.792446, ||grad|| = 0.485714\n",
      "Itération 270, val = 109329.472736, ||grad|| = 0.485714\n",
      "Itération 280, val = 117716.039955, ||grad|| = 0.485714\n",
      "Itération 290, val = 126412.494105, ||grad|| = 0.485714\n",
      "Itération 300, val = 135418.835186, ||grad|| = 0.485714\n",
      "Itération 310, val = 144735.063196, ||grad|| = 0.485714\n",
      "Itération 320, val = 154361.178138, ||grad|| = 0.485714\n",
      "Itération 330, val = 164297.180010, ||grad|| = 0.485714\n",
      "Itération 340, val = 174543.068813, ||grad|| = 0.485714\n",
      "Itération 350, val = 185098.844547, ||grad|| = 0.485714\n",
      "Itération 360, val = 195964.507213, ||grad|| = 0.485714\n"
     ]
    },
    {
     "name": "stderr",
     "output_type": "stream",
     "text": [
      "/home/loic/.local/lib/python3.5/site-packages/ipykernel/__main__.py:19: RuntimeWarning: overflow encountered in exp\n",
      "/home/loic/.local/lib/python3.5/site-packages/ipykernel/__main__.py:29: RuntimeWarning: overflow encountered in exp\n"
     ]
    },
    {
     "data": {
      "image/png": "[encoded data removed]",
      "text/plain": [
       "<matplotlib.figure.Figure at 0x7fb3112efb00>"
      ]
     },
     "metadata": {},
     "output_type": "display_data"
    }
   ],
   "source": [
    "import math\n",
    "import matplotlib.pyplot as plt\n",
    "\n",
    "%matplotlib inline \n",
    "\n",
    "def newton(objective, start, epsilon=0.1, max_iter=1000,verbose=False):\n",
    "    \"\"\" Renvoie le point qui minimise la fonction objectif.\n",
    "    :param objective: une fonction qui prend un vecteur et renvoie (valeur, gradient, hessienne) en ce point.\n",
    "    :param start: le point de départ\n",
    "    \n",
    "    :return: le point qui minimise la fonction.\n",
    "    \"\"\"\n",
    "    proceed = True\n",
    "    i = 1\n",
    "    point = start\n",
    "    fig = plt.figure()\n",
    "    ax = fig.add_subplot(2,1,1)\n",
    "    ax.set_yscale('log')\n",
    "    while proceed:\n",
    "        val, grad, hess = objective(point)\n",
    "        norm_grad = np.linalg.norm(grad)\n",
    "        \n",
    "        ax.plot(i, norm_grad, 'bx')\n",
    "\n",
    "\n",
    "        if verbose and i%10 == 0:\n",
    "            print(\"Itération %d, val = %f, ||grad|| = %f\" % (i, val, norm_grad))\n",
    "        # Au lieu de faire x := x - np.linalg.inv(hess).dot(grad), on résout le système linéaire : \n",
    "        try:\n",
    "            point -= np.linalg.solve(hess, grad)\n",
    "        except LinAlgError:\n",
    "            print(\"La hessienne n'est pas inversible, arrêt.\")\n",
    "            i = max_iter # pour arrêter\n",
    "\n",
    "        i += 1\n",
    "        proceed = i <= max_iter and norm_grad > epsilon and math.isfinite(val)\n",
    "    \n",
    "    return point\n",
    "\n",
    "optimum = newton(lambda w:objective(w, X, y, rho, verbose=True), np.ones_like(w), epsilon=1e-10, verbose=True)"
   ]
  },
  {
   "cell_type": "markdown",
   "metadata": {},
   "source": [
    "### Question 1.4 :"
   ]
  },
  {
   "cell_type": "code",
   "execution_count": 16,
   "metadata": {
    "scrolled": false
   },
   "outputs": [
    {
     "name": "stdout",
     "output_type": "stream",
     "text": [
      "Itération 10, val = 40.902546, ||grad|| = 0.501110\n",
      "Itération 20, val = 355.556324, ||grad|| = 0.485717\n",
      "Itération 30, val = 980.027900, ||grad|| = 0.485714\n",
      "Itération 40, val = 1914.382798, ||grad|| = 0.485714\n",
      "Itération 50, val = 3158.623714, ||grad|| = 0.485714\n",
      "Itération 60, val = 4712.751158, ||grad|| = 0.485714\n",
      "Itération 70, val = 6576.765319, ||grad|| = 0.485714\n",
      "Itération 80, val = 8750.666284, ||grad|| = 0.485714\n",
      "Itération 90, val = 11234.454099, ||grad|| = 0.485714\n",
      "Itération 100, val = 14028.128789, ||grad|| = 0.485714\n",
      "Itération 110, val = 17131.690371, ||grad|| = 0.485714\n",
      "Itération 120, val = 20545.138855, ||grad|| = 0.485714\n",
      "Itération 130, val = 24268.474249, ||grad|| = 0.485714\n",
      "Itération 140, val = 28301.696558, ||grad|| = 0.485714\n",
      "Itération 150, val = 32644.805784, ||grad|| = 0.485714\n",
      "Itération 160, val = 37297.801931, ||grad|| = 0.485714\n",
      "Itération 170, val = 42260.685001, ||grad|| = 0.485714\n",
      "Itération 180, val = 47533.454996, ||grad|| = 0.485714\n",
      "Itération 190, val = 53116.111916, ||grad|| = 0.485714\n",
      "Itération 200, val = 59008.655762, ||grad|| = 0.485714\n",
      "Itération 210, val = 65211.086536, ||grad|| = 0.485714\n",
      "Itération 220, val = 71723.404237, ||grad|| = 0.485714\n",
      "Itération 230, val = 78545.608867, ||grad|| = 0.485714\n",
      "Itération 240, val = 85677.700426, ||grad|| = 0.485714\n",
      "Itération 250, val = 93119.678915, ||grad|| = 0.485714\n",
      "Itération 260, val = 100871.544332, ||grad|| = 0.485714\n",
      "Itération 270, val = 108933.296680, ||grad|| = 0.485714\n",
      "Itération 280, val = 117304.935957, ||grad|| = 0.485714\n",
      "Itération 290, val = 125986.462165, ||grad|| = 0.485714\n",
      "Itération 300, val = 134977.875303, ||grad|| = 0.485714\n",
      "Itération 310, val = 144279.175372, ||grad|| = 0.485714\n",
      "Itération 320, val = 153890.362371, ||grad|| = 0.485714\n",
      "Itération 330, val = 163811.436301, ||grad|| = 0.485714\n",
      "Itération 340, val = 174042.397162, ||grad|| = 0.485714\n",
      "Itération 350, val = 184583.244954, ||grad|| = 0.485714\n",
      "Itération 360, val = 195433.979677, ||grad|| = 0.485714\n"
     ]
    },
    {
     "name": "stderr",
     "output_type": "stream",
     "text": [
      "/home/loic/.local/lib/python3.5/site-packages/ipykernel/__main__.py:19: RuntimeWarning: overflow encountered in exp\n"
     ]
    },
    {
     "data": {
      "image/png": "[encoded data removed]",
      "text/plain": [
       "<matplotlib.figure.Figure at 0x7fb311898978>"
      ]
     },
     "metadata": {},
     "output_type": "display_data"
    }
   ],
   "source": [
    "optimum = newton(lambda w:objective(w, X, y, rho, verbose=True), 0.3*np.ones_like(w), epsilon=1e-10, verbose=True)"
   ]
  },
  {
   "cell_type": "markdown",
   "metadata": {},
   "source": [
    "On s'éloigne de l'optimum.\n",
    "\n",
    "### 1.5 : Armijo"
   ]
  },
  {
   "cell_type": "code",
   "execution_count": 32,
   "metadata": {},
   "outputs": [
    {
     "name": "stdout",
     "output_type": "stream",
     "text": [
      "Itération 10, val = 1.044710, ||grad|| = 0.274893\n"
     ]
    },
    {
     "name": "stderr",
     "output_type": "stream",
     "text": [
      "/home/loic/.local/lib/python3.5/site-packages/ipykernel/__main__.py:36: RuntimeWarning: overflow encountered in cosh\n"
     ]
    },
    {
     "name": "stdout",
     "output_type": "stream",
     "text": [
      "Itération 20, val = 1.850945, ||grad|| = 0.297849\n",
      "Itération 30, val = 4.928052, ||grad|| = 0.487834\n",
      "Itération 40, val = 11.541982, ||grad|| = 0.566551\n",
      "Itération 50, val = 21.544497, ||grad|| = 0.535752\n",
      "Itération 60, val = 34.716102, ||grad|| = 0.511070\n",
      "Itération 70, val = 50.995873, ||grad|| = 0.498222\n",
      "Itération 80, val = 70.372491, ||grad|| = 0.491833\n",
      "Itération 90, val = 92.844461, ||grad|| = 0.488698\n",
      "Itération 100, val = 118.412206, ||grad|| = 0.487167\n",
      "Itération 110, val = 147.076414, ||grad|| = 0.486421\n",
      "Itération 120, val = 178.837702, ||grad|| = 0.486058\n",
      "Itération 130, val = 213.696554, ||grad|| = 0.485882\n",
      "Itération 140, val = 251.653332, ||grad|| = 0.485796\n",
      "Itération 150, val = 292.708303, ||grad|| = 0.485754\n",
      "Itération 160, val = 336.861659, ||grad|| = 0.485734\n",
      "Itération 170, val = 384.113536, ||grad|| = 0.485724\n",
      "Itération 180, val = 434.464033, ||grad|| = 0.485719\n",
      "Itération 190, val = 487.913218, ||grad|| = 0.485717\n",
      "Itération 200, val = 544.461142, ||grad|| = 0.485715\n",
      "Itération 210, val = 604.107838, ||grad|| = 0.485715\n",
      "Itération 220, val = 666.853334, ||grad|| = 0.485715\n",
      "Itération 230, val = 732.697645, ||grad|| = 0.485714\n",
      "Itération 240, val = 801.640786, ||grad|| = 0.485714\n",
      "Itération 250, val = 873.682766, ||grad|| = 0.485714\n",
      "Itération 260, val = 948.823591, ||grad|| = 0.485714\n",
      "Itération 270, val = 1027.063267, ||grad|| = 0.485714\n",
      "Itération 280, val = 1108.401796, ||grad|| = 0.485714\n",
      "Itération 290, val = 1192.839183, ||grad|| = 0.485714\n",
      "Itération 300, val = 1280.375429, ||grad|| = 0.485714\n",
      "Itération 310, val = 1371.010535, ||grad|| = 0.485714\n",
      "Itération 320, val = 1464.744503, ||grad|| = 0.485714\n",
      "Itération 330, val = 1561.577334, ||grad|| = 0.485714\n",
      "Itération 340, val = 1661.509029, ||grad|| = 0.485714\n",
      "Itération 350, val = 1764.539588, ||grad|| = 0.485714\n",
      "Itération 360, val = 1870.669012, ||grad|| = 0.485714\n",
      "Itération 370, val = 1979.897301, ||grad|| = 0.485714\n",
      "Itération 380, val = 2092.224456, ||grad|| = 0.485714\n",
      "Itération 390, val = 2207.650477, ||grad|| = 0.485714\n",
      "Itération 400, val = 2326.175365, ||grad|| = 0.485714\n",
      "Itération 410, val = 2447.799119, ||grad|| = 0.485714\n",
      "Itération 420, val = 2572.521739, ||grad|| = 0.485714\n",
      "Itération 430, val = 2700.343227, ||grad|| = 0.485714\n",
      "Itération 440, val = 2831.263582, ||grad|| = 0.485714\n",
      "Itération 450, val = 2965.282804, ||grad|| = 0.485714\n",
      "Itération 460, val = 3102.400894, ||grad|| = 0.485714\n",
      "Itération 470, val = 3242.617851, ||grad|| = 0.485714\n",
      "Itération 480, val = 3385.933676, ||grad|| = 0.485714\n",
      "Itération 490, val = 3532.348369, ||grad|| = 0.485714\n",
      "Itération 500, val = 3681.861929, ||grad|| = 0.485714\n",
      "Itération 510, val = 3834.474358, ||grad|| = 0.485714\n",
      "Itération 520, val = 3990.185655, ||grad|| = 0.485714\n",
      "Itération 530, val = 4148.995820, ||grad|| = 0.485714\n",
      "Itération 540, val = 4310.904853, ||grad|| = 0.485714\n",
      "Itération 550, val = 4475.912754, ||grad|| = 0.485714\n",
      "Itération 560, val = 4644.019524, ||grad|| = 0.485714\n",
      "Itération 570, val = 4815.225162, ||grad|| = 0.485714\n",
      "Itération 580, val = 4989.529668, ||grad|| = 0.485714\n",
      "Itération 590, val = 5166.933043, ||grad|| = 0.485714\n",
      "Itération 600, val = 5347.435287, ||grad|| = 0.485714\n",
      "Itération 610, val = 5531.036399, ||grad|| = 0.485714\n",
      "Itération 620, val = 5717.736379, ||grad|| = 0.485714\n",
      "Itération 630, val = 5907.535229, ||grad|| = 0.485714\n",
      "Itération 640, val = 6100.432946, ||grad|| = 0.485714\n",
      "Itération 650, val = 6296.429533, ||grad|| = 0.485714\n",
      "Itération 660, val = 6495.524989, ||grad|| = 0.485714\n",
      "Itération 670, val = 6697.719313, ||grad|| = 0.485714\n",
      "Itération 680, val = 6903.012506, ||grad|| = 0.485714\n",
      "Itération 690, val = 7111.404567, ||grad|| = 0.485714\n",
      "Itération 700, val = 7322.895498, ||grad|| = 0.485714\n",
      "Itération 710, val = 7537.485297, ||grad|| = 0.485714\n",
      "Itération 720, val = 7755.173966, ||grad|| = 0.485714\n",
      "Itération 730, val = 7975.961503, ||grad|| = 0.485714\n",
      "Itération 740, val = 8199.847909, ||grad|| = 0.485714\n",
      "Itération 750, val = 8426.833184, ||grad|| = 0.485714\n",
      "Itération 760, val = 8656.917328, ||grad|| = 0.485714\n",
      "Itération 770, val = 8890.100341, ||grad|| = 0.485714\n",
      "Itération 780, val = 9126.382223, ||grad|| = 0.485714\n",
      "Itération 790, val = 9365.762974, ||grad|| = 0.485714\n",
      "Itération 800, val = 9608.242594, ||grad|| = 0.485714\n",
      "Itération 810, val = 9853.821082, ||grad|| = 0.485714\n",
      "Itération 820, val = 10102.498440, ||grad|| = 0.485714\n",
      "Itération 830, val = 10354.274667, ||grad|| = 0.485714\n",
      "Itération 840, val = 10609.149763, ||grad|| = 0.485714\n",
      "Itération 850, val = 10867.123728, ||grad|| = 0.485714\n",
      "Itération 860, val = 11128.196562, ||grad|| = 0.485714\n",
      "Itération 870, val = 11392.368266, ||grad|| = 0.485714\n",
      "Itération 880, val = 11659.638838, ||grad|| = 0.485714\n",
      "Itération 890, val = 11930.008279, ||grad|| = 0.485714\n",
      "Itération 900, val = 12203.476590, ||grad|| = 0.485714\n",
      "Itération 910, val = 12480.043769, ||grad|| = 0.485714\n",
      "Itération 920, val = 12759.709818, ||grad|| = 0.485714\n",
      "Itération 930, val = 13042.474736, ||grad|| = 0.485714\n",
      "Itération 940, val = 13328.338522, ||grad|| = 0.485714\n",
      "Itération 950, val = 13617.301178, ||grad|| = 0.485714\n",
      "Itération 960, val = 13909.362704, ||grad|| = 0.485714\n",
      "Itération 970, val = 14204.523098, ||grad|| = 0.485714\n",
      "Itération 980, val = 14502.782361, ||grad|| = 0.485714\n",
      "Itération 990, val = 14804.140494, ||grad|| = 0.485714\n",
      "Itération 1000, val = 15108.597496, ||grad|| = 0.485714\n"
     ]
    },
    {
     "data": {
      "image/png": "[encoded data removed]",
      "text/plain": [
       "<matplotlib.figure.Figure at 0x7fb31099ecc0>"
      ]
     },
     "metadata": {},
     "output_type": "display_data"
    }
   ],
   "source": [
    "from scipy.optimize import minimize\n",
    "\n",
    "def armijo(objective, start, epsilon=0.1, max_iter=1000,verbose=False):\n",
    "    \"\"\" Renvoie le point qui minimise la fonction objectif.\n",
    "    :param objective: une fonction qui prend un vecteur et renvoie (valeur, gradient, hessienne) en ce point.\n",
    "    :param start: le point de départ\n",
    "    \n",
    "    :return: le point qui minimise la fonction.\n",
    "    \"\"\"\n",
    "    proceed = True\n",
    "    i = 1\n",
    "    point = start\n",
    "    fig = plt.figure()\n",
    "    ax = fig.add_subplot(2,1,1)\n",
    "    ax.set_yscale('log')\n",
    "    while proceed:\n",
    "        val, grad, hess = objective(point)\n",
    "        norm_grad = np.linalg.norm(grad)\n",
    "        \n",
    "        ax.plot(i, norm_grad, 'bx')\n",
    "\n",
    "        if verbose and i%10 == 0:\n",
    "            print(\"Itération %d, val = %f, ||grad|| = %f\" % (i, val, norm_grad))\n",
    "        try:\n",
    "            M = np.linalg.inv(hess).dot(grad)\n",
    "            f = lambda l:objective(point - l[0]*M)[0]\n",
    "            a_min = minimize(f, [1], bounds=((0.1, None),))['x'][0]\n",
    "            point -= a_min*M\n",
    "        except LinAlgError:\n",
    "            print(\"La hessienne n'est pas inversible, arrêt.\")\n",
    "            i = max_iter # pour arrêter\n",
    "\n",
    "        i += 1\n",
    "        proceed = i <= max_iter and norm_grad > epsilon and math.isfinite(val)\n",
    "    \n",
    "    return point\n",
    "\n",
    "\n",
    "optimum = armijo(lambda w:objective(w, X, y, rho, verbose=True), 0.3*np.ones_like(w), epsilon=1e-10, verbose=True)"
   ]
  },
  {
   "cell_type": "code",
   "execution_count": null,
   "metadata": {
    "collapsed": true
   },
   "outputs": [],
   "source": []
  },
  {
   "cell_type": "markdown",
   "metadata": {},
   "source": [
    "## Partie 2 : \n",
    "\n",
    "### 2.1 : \n",
    "La norme 1 empèche la différenciabilité.\n",
    "\n",
    "### 2.2 : \n",
    "\n",
    "** Calcul de l'opérateur proximal :**\n",
    "\n",
    "\n",
    "On a $g_2:w \\mapsto \\rho ||w||_1$, son opérateur proximal est le seuillage doux : \n",
    "\n",
    "Soit $ w \\in \\mathbb R^p$ et  $v = prox_{g_2}(w)$, on cherche $v$ tel que $0 \\in d F(v)$ avec $F:x \\mapsto g_2(x) + \\frac{||x-w||^2}{2}$.\n",
    "\n",
    "On a : $dF(x) = dg(x) + x-w$\n",
    "avec $u \\in dg(x) \\Leftrightarrow u_i = \\begin{cases}\n",
    "    \\{\\rho\\}, & \\text{si $x_i > 0$}.\\\\\n",
    "    \\{-\\rho\\}, & \\text{si $x_i < 0$}.\\\\\n",
    "    [-\\rho, +\\rho], & \\text{si $x_i = 0$}.\n",
    "  \\end{cases}$\n",
    "\n",
    "Ainsi $0 \\in dF(v) \\Leftrightarrow 0 \\in dg(v) + v-w \\Leftrightarrow w-v \\in dg(v) $.\n",
    "\n",
    "C'est-à-dire : \n",
    "\n",
    "$w_i - v_i = \\begin{cases}\n",
    "    \\{\\rho\\}, & \\text{si $v_i > 0$}.\\\\\n",
    "    \\{-\\rho\\}, & \\text{si $v_i < 0$}.\\\\\n",
    "    [-\\rho, +\\rho], & \\text{si $v_i = 0$}.\n",
    "  \\end{cases}$\n",
    "  \n",
    "Ou encore : \n",
    "$ v_i = \\begin{cases}\n",
    "    w_i - \\rho, & \\text{si $w_i - \\rho> 0$}.\\\\\n",
    "    w_i + \\rho, & \\text{si $w_i + \\rho < 0$}.\\\\\n",
    "    0, & \\text{si $w_i \\in [-\\rho, +\\rho]$}.\n",
    "  \\end{cases}$\n",
    "  \n",
    "\n",
    "** Calcul du gradient de $f_2$ : **\n",
    "\n",
    "$\\frac{df_2}{dw_0} (w_0, w)= \\frac 1 n \\sum_{i=1}^n{\\frac{-y_i}{1+exp(y_i(x_i^T*w + w_0))}}$\n",
    "\n",
    "\n",
    "$\\frac{df_2}{dw} (w_0, w)= \\frac 1 n \\sum_{i=1}^n{\\frac{-y_i*x_i}{1+exp(y_i(x_i^T*w + w_0))}} $\n"
   ]
  },
  {
   "cell_type": "code",
   "execution_count": null,
   "metadata": {
    "collapsed": true
   },
   "outputs": [],
   "source": []
  }
 ],
 "metadata": {
  "kernelspec": {
   "display_name": "Python 3",
   "language": "python",
   "name": "python3"
  },
  "language_info": {
   "codemirror_mode": {
    "name": "ipython",
    "version": 3
   },
   "file_extension": ".py",
   "mimetype": "text/x-python",
   "name": "python",
   "nbconvert_exporter": "python",
   "pygments_lexer": "ipython3",
   "version": "3.6.4"
  }
 },
 "nbformat": 4,
 "nbformat_minor": 2
}
