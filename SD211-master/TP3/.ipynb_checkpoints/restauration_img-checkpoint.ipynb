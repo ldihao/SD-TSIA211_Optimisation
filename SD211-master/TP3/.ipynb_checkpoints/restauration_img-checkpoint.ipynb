{
 "cells": [
  {
   "cell_type": "markdown",
   "metadata": {
    "deletable": true,
    "editable": true
   },
   "source": [
    "# TP Restauration d'image\n",
    "Loïc Herbelot "
   ]
  },
  {
   "cell_type": "code",
   "execution_count": 19,
   "metadata": {
    "collapsed": false,
    "deletable": true,
    "editable": true
   },
   "outputs": [
    {
     "name": "stdout",
     "output_type": "stream",
     "text": [
      "Available keys: dict_keys(['original', 'H', 'observations', 'T'])\n"
     ]
    },
    {
     "data": {
      "image/png": "[encoded data removed]",
      "text/plain": [
       "<matplotlib.figure.Figure at 0x7f0bb384f198>"
      ]
     },
     "metadata": {},
     "output_type": "display_data"
    },
    {
     "data": {
      "image/png": "[encoded data removed]",
      "text/plain": [
       "<matplotlib.figure.Figure at 0x7f0bb3a49668>"
      ]
     },
     "metadata": {},
     "output_type": "display_data"
    }
   ],
   "source": [
    "import pickle\n",
    "import numpy as np\n",
    "import matplotlib.pyplot as plt\n",
    "import time\n",
    "%matplotlib inline \n",
    "\n",
    "# Ouvrir des données stockées dans un fichier .pk\n",
    "data = pickle.load(open('data.pk','rb'), encoding='latin1')\n",
    "print(\"Available keys:\" , data.keys())\n",
    "\n",
    "plt.imshow(data['original'], cmap='gray');\n",
    "plt.figure()\n",
    "plt.imshow(data['observations'], cmap='gray');"
   ]
  },
  {
   "cell_type": "markdown",
   "metadata": {
    "deletable": true,
    "editable": true
   },
   "source": [
    "## Préparation 1)\n",
    "\n",
    "$z = \\begin{bmatrix}x \\\\ Tx \\end{bmatrix}$\n",
    "\n",
    "$A = \\begin{bmatrix} I_p \\\\ T \\end{bmatrix}$\n",
    "\n",
    "## Préparation 2)\n",
    "\n",
    "$\\mathcal L_\\rho(x, z, \\gamma) = f(x) + g(z) + \\gamma^T (Ax - z) + \\rho/2 ||Ax - z||_2 \\\\\n",
    " = 1/2 ||y - Hx||_2^2 \n",
    " + \\iota_{[0,1]^P}(z_1) + \\beta ||z_2||_1 \n",
    " + <\\gamma_1, x-z_1> + <\\gamma_2, Tx-z_2>\n",
    " + \\frac \\rho 2 ||\\begin{bmatrix} x-z_1 \\\\ Tx-z_2 \\end{bmatrix}||_2$\n",
    " \n",
    " ## Préparation 3)\n",
    " \n",
    " $\\nabla_x f(x) = H^THx - H^Ty$\n",
    " \n",
    " $\\nabla_x <\\gamma, Ax-z> = A^T \\gamma$\n",
    " \n",
    " $\\nabla_x \\frac \\rho 2 ||Ax - z||_2^2 = \\rho (A^TAx - A^Tz)$\n",
    " \n",
    " Donc $\\nabla_x \\mathcal L_\\rho(x, z, \\gamma) = (H^TH + \\rho A^TA)x -H^Ty + A^T(\\gamma - \\rho z) $ \n",
    " \n",
    " Et $\\nabla_{x^{k+1}} = 0 \\Leftrightarrow x^{k+1} = (A^T(\\rho z - \\gamma) + H^T y)(H^T H + \\rho A^T A)^{-1}$\n",
    " \n",
    " ($H^T H + \\rho A^T A$ est symétrique positive, donc inversible)"
   ]
  },
  {
   "cell_type": "code",
   "execution_count": null,
   "metadata": {
    "collapsed": true
   },
   "outputs": [],
   "source": []
  }
 ],
 "metadata": {
  "kernelspec": {
   "display_name": "Python 3",
   "language": "python",
   "name": "python3"
  },
  "language_info": {
   "codemirror_mode": {
    "name": "ipython",
    "version": 3
   },
   "file_extension": ".py",
   "mimetype": "text/x-python",
   "name": "python",
   "nbconvert_exporter": "python",
   "pygments_lexer": "ipython3",
   "version": "3.5.2"
  }
 },
 "nbformat": 4,
 "nbformat_minor": 2
}
